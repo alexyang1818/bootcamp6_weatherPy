{
 "cells": [
  {
   "cell_type": "code",
   "execution_count": 1,
   "metadata": {},
   "outputs": [
    {
     "name": "stdout",
     "output_type": "stream",
     "text": [
      "60.56770094057242 -49.62330867584535\n",
      "6.648141112626405 -171.33719893007492\n",
      "-70.2360270464428 -97.07749419036212\n",
      "19.137869277844104 72.49443758828744\n",
      "89.740448479013 130.497982668289\n",
      "38.80443998716453 147.36164144632295\n",
      "77.3002454951864 166.70499444514564\n",
      "-8.779411410158943 -136.72052568299904\n",
      "13.164802148018197 106.00275984957676\n",
      "-84.1786695413669 -140.07733650406527\n"
     ]
    }
   ],
   "source": [
    "import numpy as np\n",
    "lats = np.random.uniform(-90,90,size=10)\n",
    "lngs = np.random.uniform(-180,180,size=10)\n",
    "lat_lngs = zip(lats, lngs)\n",
    "for coordinate in lat_lngs:\n",
    "    print(coordinate[0], coordinate[1])"
   ]
  },
  {
   "cell_type": "code",
   "execution_count": 2,
   "metadata": {},
   "outputs": [],
   "source": [
    "from citipy import citipy\n"
   ]
  },
  {
   "cell_type": "code",
   "execution_count": 3,
   "metadata": {},
   "outputs": [],
   "source": [
    "# import the requests library\n",
    "import requests\n",
    "\n",
    "# import the API key\n",
    "from config import weather_api_key"
   ]
  },
  {
   "cell_type": "code",
   "execution_count": 4,
   "metadata": {},
   "outputs": [],
   "source": [
    "# starting URL for Weather Map API call.\n",
    "url = 'http://api.openweathermap.org/data/2.5/weather?units=Imperial&appid=' + weather_api_key"
   ]
  },
  {
   "cell_type": "code",
   "execution_count": 5,
   "metadata": {},
   "outputs": [],
   "source": [
    "# create an endpoint URL for a city\n",
    "city_url = url + '&q=' + 'Boston'\n",
    "#city_url = url + '&q=' + 'Bston'"
   ]
  },
  {
   "cell_type": "code",
   "execution_count": 6,
   "metadata": {},
   "outputs": [
    {
     "name": "stdout",
     "output_type": "stream",
     "text": [
      "City weather found.\n"
     ]
    },
    {
     "data": {
      "text/plain": [
       "(<Response [200]>, 200)"
      ]
     },
     "execution_count": 6,
     "metadata": {},
     "output_type": "execute_result"
    }
   ],
   "source": [
    "# make a 'get' request for the city weather\n",
    "city_weather = requests.get(city_url)\n",
    "if city_weather.status_code == 200:\n",
    "    print(f'City weather found.')\n",
    "else:\n",
    "    print(f'City weather not found.')\n",
    "        \n",
    "city_weather, city_weather.status_code"
   ]
  },
  {
   "cell_type": "code",
   "execution_count": 7,
   "metadata": {},
   "outputs": [
    {
     "data": {
      "text/plain": [
       "'{\"coord\":{\"lon\":-71.0598,\"lat\":42.3584},\"weather\":[{\"id\":803,\"main\":\"Clouds\",\"description\":\"broken clouds\",\"icon\":\"04n\"}],\"base\":\"stations\",\"main\":{\"temp\":75.7,\"feels_like\":76.41,\"temp_min\":71.94,\"temp_max\":78.46,\"pressure\":1014,\"humidity\":73},\"visibility\":10000,\"wind\":{\"speed\":4,\"deg\":280,\"gust\":11.99},\"clouds\":{\"all\":77},\"dt\":1631487748,\"sys\":{\"type\":2,\"id\":2013408,\"country\":\"US\",\"sunrise\":1631442081,\"sunset\":1631487589},\"timezone\":-14400,\"id\":4930956,\"name\":\"Boston\",\"cod\":200}'"
      ]
     },
     "execution_count": 7,
     "metadata": {},
     "output_type": "execute_result"
    }
   ],
   "source": [
    "# get the text of the 'Get' request.\n",
    "city_weather.text"
   ]
  },
  {
   "cell_type": "code",
   "execution_count": 8,
   "metadata": {},
   "outputs": [
    {
     "data": {
      "text/plain": [
       "{'coord': {'lon': -71.0598, 'lat': 42.3584},\n",
       " 'weather': [{'id': 803,\n",
       "   'main': 'Clouds',\n",
       "   'description': 'broken clouds',\n",
       "   'icon': '04n'}],\n",
       " 'base': 'stations',\n",
       " 'main': {'temp': 75.7,\n",
       "  'feels_like': 76.41,\n",
       "  'temp_min': 71.94,\n",
       "  'temp_max': 78.46,\n",
       "  'pressure': 1014,\n",
       "  'humidity': 73},\n",
       " 'visibility': 10000,\n",
       " 'wind': {'speed': 4, 'deg': 280, 'gust': 11.99},\n",
       " 'clouds': {'all': 77},\n",
       " 'dt': 1631487748,\n",
       " 'sys': {'type': 2,\n",
       "  'id': 2013408,\n",
       "  'country': 'US',\n",
       "  'sunrise': 1631442081,\n",
       "  'sunset': 1631487589},\n",
       " 'timezone': -14400,\n",
       " 'id': 4930956,\n",
       " 'name': 'Boston',\n",
       " 'cod': 200}"
      ]
     },
     "execution_count": 8,
     "metadata": {},
     "output_type": "execute_result"
    }
   ],
   "source": [
    "# get the JSON text of the 'Get' request.\n",
    "city_weather.json()"
   ]
  },
  {
   "cell_type": "code",
   "execution_count": 9,
   "metadata": {},
   "outputs": [],
   "source": [
    "#get the JSON data\n",
    "boston_data = city_weather.json()"
   ]
  },
  {
   "cell_type": "code",
   "execution_count": 10,
   "metadata": {},
   "outputs": [
    {
     "data": {
      "text/plain": [
       "'US'"
      ]
     },
     "execution_count": 10,
     "metadata": {},
     "output_type": "execute_result"
    }
   ],
   "source": [
    "boston_data['sys']['country']"
   ]
  },
  {
   "cell_type": "code",
   "execution_count": 11,
   "metadata": {},
   "outputs": [
    {
     "name": "stdout",
     "output_type": "stream",
     "text": [
      "42.3584 -71.0598 78.46 73 77 4\n"
     ]
    }
   ],
   "source": [
    "lat = boston_data['coord']['lat']\n",
    "lng = boston_data['coord']['lon']\n",
    "max_temp = boston_data['main']['temp_max']\n",
    "humidity = boston_data[\"main\"][\"humidity\"]\n",
    "clouds = boston_data[\"clouds\"][\"all\"]\n",
    "wind = boston_data[\"wind\"][\"speed\"]\n",
    "print(lat, lng, max_temp, humidity, clouds, wind)"
   ]
  },
  {
   "cell_type": "code",
   "execution_count": 21,
   "metadata": {},
   "outputs": [
    {
     "data": {
      "text/plain": [
       "datetime.datetime(2021, 9, 12, 23, 2, 28)"
      ]
     },
     "execution_count": 21,
     "metadata": {},
     "output_type": "execute_result"
    }
   ],
   "source": [
    "# Import the datatime module from the datetime library\n",
    "from datetime import datetime\n",
    "# get the date from the JSON file\n",
    "date = boston_data['dt']\n",
    "# convert the UTC date to a date format with year, month, day, hours, minutes and seconds.\n",
    "datetime.utcfromtimestamp(date)"
   ]
  },
  {
   "cell_type": "code",
   "execution_count": 23,
   "metadata": {},
   "outputs": [
    {
     "data": {
      "text/plain": [
       "'2021-09-12 23:02:28'"
      ]
     },
     "execution_count": 23,
     "metadata": {},
     "output_type": "execute_result"
    }
   ],
   "source": [
    "# format datetime with strftime\n",
    "datetime.utcfromtimestamp(date).strftime('%Y-%m-%d %H:%M:%S')"
   ]
  }
 ],
 "metadata": {
  "kernelspec": {
   "display_name": "Python [conda env:DataBootCamp]",
   "language": "python",
   "name": "conda-env-DataBootCamp-py"
  },
  "language_info": {
   "codemirror_mode": {
    "name": "ipython",
    "version": 3
   },
   "file_extension": ".py",
   "mimetype": "text/x-python",
   "name": "python",
   "nbconvert_exporter": "python",
   "pygments_lexer": "ipython3",
   "version": "3.6.10"
  }
 },
 "nbformat": 4,
 "nbformat_minor": 4
}
