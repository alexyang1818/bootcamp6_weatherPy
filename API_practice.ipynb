{
 "cells": [
  {
   "cell_type": "code",
   "execution_count": 1,
   "metadata": {},
   "outputs": [
    {
     "name": "stdout",
     "output_type": "stream",
     "text": [
      "23.369002528544954 -113.02987867604867\n",
      "-35.336441440275095 13.935754867202945\n",
      "68.83334770548893 9.762047238000434\n",
      "-48.12081382819283 -177.7263268773982\n",
      "-83.94067304568571 -164.62426546339535\n",
      "67.10204045029721 -50.257954514486244\n",
      "-57.21483894823053 90.99335575254435\n",
      "-54.67444946691484 115.41040235209039\n",
      "-12.533201115971991 47.23245257505522\n",
      "60.215558550993904 -91.27815921319561\n"
     ]
    }
   ],
   "source": [
    "import numpy as np\n",
    "lats = np.random.uniform(-90,90,size=10)\n",
    "lngs = np.random.uniform(-180,180,size=10)\n",
    "lat_lngs = zip(lats, lngs)\n",
    "for coordinate in lat_lngs:\n",
    "    print(coordinate[0], coordinate[1])"
   ]
  },
  {
   "cell_type": "code",
   "execution_count": null,
   "metadata": {},
   "outputs": [],
   "source": [
    "from citipy import citipy\n"
   ]
  }
 ],
 "metadata": {
  "kernelspec": {
   "display_name": "Python [conda env:DataBootCamp]",
   "language": "python",
   "name": "conda-env-DataBootCamp-py"
  },
  "language_info": {
   "codemirror_mode": {
    "name": "ipython",
    "version": 3
   },
   "file_extension": ".py",
   "mimetype": "text/x-python",
   "name": "python",
   "nbconvert_exporter": "python",
   "pygments_lexer": "ipython3",
   "version": "3.6.10"
  }
 },
 "nbformat": 4,
 "nbformat_minor": 4
}
